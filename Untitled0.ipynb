{
  "nbformat": 4,
  "nbformat_minor": 0,
  "metadata": {
    "colab": {
      "name": "Untitled0.ipynb",
      "provenance": [],
      "authorship_tag": "ABX9TyMuoYyxCxqXRG1KeDw39GFL",
      "include_colab_link": true
    },
    "kernelspec": {
      "name": "python3",
      "display_name": "Python 3"
    },
    "language_info": {
      "name": "python"
    }
  },
  "cells": [
    {
      "cell_type": "markdown",
      "metadata": {
        "id": "view-in-github",
        "colab_type": "text"
      },
      "source": [
        "<a href=\"https://colab.research.google.com/github/asutoshgha/AI-assignment/blob/main/Untitled0.ipynb\" target=\"_parent\"><img src=\"https://colab.research.google.com/assets/colab-badge.svg\" alt=\"Open In Colab\"/></a>"
      ]
    },
    {
      "cell_type": "code",
      "metadata": {
        "colab": {
          "base_uri": "https://localhost:8080/"
        },
        "id": "7raoFovvCsHe",
        "outputId": "b9946c88-23f1-47d5-a8e7-4cc929736c1a"
      },
      "source": [
        "from sklearn import datasets\n",
        "from sklearn.model_selection import train_test_split\n",
        "from sklearn import svm\n",
        "from sklearn import metrics\n",
        "\n",
        "cancer_data=datasets.load_breast_cancer()\n",
        "x_train,x_test,y_train,y_test=train_test_split(cancer_data.data,cancer_data.target,test_size=0.4,random_state=209)\n",
        "cls=svm.SVC(kernel=\"linear\")\n",
        "cls.fit(x_train,y_train)\n",
        "pred=cls.predict(x_test)\n",
        "print(\"accuracy:\",metrics.accuracy_score(y_test,y_pred=pred))\n",
        "print(\"precision:\",metrics.precision_score(y_test,y_pred=pred))\n",
        "print(\"recall:\",metrics.recall_score(y_test,y_pred=pred))\n",
        "print(metrics.classification_report(y_test,y_pred=pred))"
      ],
      "execution_count": 12,
      "outputs": [
        {
          "output_type": "stream",
          "text": [
            "accuracy: 0.9254385964912281\n",
            "precision: 0.9333333333333333\n",
            "recall: 0.9402985074626866\n",
            "              precision    recall  f1-score   support\n",
            "\n",
            "           0       0.91      0.90      0.91        94\n",
            "           1       0.93      0.94      0.94       134\n",
            "\n",
            "    accuracy                           0.93       228\n",
            "   macro avg       0.92      0.92      0.92       228\n",
            "weighted avg       0.93      0.93      0.93       228\n",
            "\n"
          ],
          "name": "stdout"
        }
      ]
    },
    {
      "cell_type": "code",
      "metadata": {
        "id": "bL9hgPStEZrf"
      },
      "source": [
        "print\n",
        "()"
      ],
      "execution_count": null,
      "outputs": []
    }
  ]
}